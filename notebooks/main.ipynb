{
 "cells": [
  {
   "cell_type": "code",
   "execution_count": 1,
   "metadata": {},
   "outputs": [],
   "source": [
    "import pandas as pd\n",
    "import matplotlib.pyplot as plt\n",
    "import numpy as np\n",
    "import os\n",
    "%matplotlib inline"
   ]
  },
  {
   "cell_type": "code",
   "execution_count": null,
   "metadata": {},
   "outputs": [],
   "source": [
    "\n",
    "def calculate_linear_attenuation_coefficient(I, thickness):\n",
    "    \"\"\"\n",
    "    Calculate the linear attenuation coefficient (\\u03bc) for a given material.\n",
    "\n",
    "    Parameters:\n",
    "        I0 (float): Initial intensity of photons (no shielding).\n",
    "        I (float): Intensity of photons after passing through the material.\n",
    "        thickness (float): Thickness of the material (in cm).\n",
    "\n",
    "    Returns:\n",
    "        float: Linear attenuation coefficient in cm^-1.\n",
    "    \"\"\"\n",
    "    I0 = 997578         # Since its the same for every element\n",
    "    # Ensure thickness is non-zero to avoid division errors\n",
    "    if thickness == 0 or I == 0:\n",
    "        return 0\n",
    "    if thickness < 0:\n",
    "        raise ValueError(\"Thickness must be greater than 0.\")\n",
    "\n",
    "    # Ensure I0 and I are positive values\n",
    "    if I < 0:\n",
    "        raise ValueError(\"I must be positive values.\")\n",
    "\n",
    "    # Calculate the linear attenuation coefficient\n",
    "    mu = -np.log(I / I0) / thickness\n",
    "\n",
    "    return mu\n",
    "\n",
    "df = pd.read_excel(\"../data/material.xlsx\", sheet_name=None)\n",
    "\n",
    "df[\"Composition\"] = df[\"Composition\"].iloc[:,[1,2,3,5]]\n",
    "hy_df = df[\"Composition\"].iloc[2:15,:]\n",
    "mnb_df = df[\"Composition\"].iloc[24:40,:]\n",
    "hy_df.columns = hy_df.iloc[0,:]\n",
    "mnb_df.columns = mnb_df.iloc[0,:]\n",
    "hy_df = hy_df[1:].reset_index(drop=True)\n",
    "mnb_df = mnb_df[1:].reset_index(drop=True)\n",
    "mnb_df.iloc[14,0] = \"Fe\"\n",
    "\n",
    "hy_root = df[\"Simulation ROOT\"].iloc[1:28,1:4]\n",
    "mnb_root = df[\"Simulation ROOT\"].iloc[1:29,6:9]\n",
    "lead_root = df[\"Simulation ROOT\"].iloc[1:15,11:15]\n",
    "hy_root.columns = hy_root.iloc[0,:]\n",
    "mnb_root.columns = mnb_root.iloc[0,:]\n",
    "lead_root.columns = lead_root.iloc[0,:]\n",
    "hy_root = hy_root[1:].reset_index(drop=True)\n",
    "lead_root = lead_root[1:].reset_index(drop=True)\n",
    "mnb_root = mnb_root[1:].reset_index(drop=True)\n",
    "\n",
    "mnb_root.rename(columns={\"Shielding thickness \": \"Shielding thickness(in cm)\"},inplace=True)\n",
    "lead_root.rename(columns={\"Shielding thickness \": \"Shielding thickness(in cm)\"},inplace=True)\n",
    "hy_root.rename(columns={\"Shielding thickness \": \"Shielding thickness(in cm)\"},inplace=True)\n",
    "\n",
    "mnb_root.iloc[:,0] =  mnb_root.iloc[:,0].apply(lambda x: int(x.split()[0]))\n",
    "hy_root.iloc[:,0] =  hy_root.iloc[:,0].apply(lambda x: int(x.split()[0]))\n",
    "lead_root.iloc[:,0] =  lead_root.iloc[:,0].apply(lambda x: int(x.split()[0]))\n",
    "\n",
    "columns = mnb_root.columns\n",
    "\n",
    "mnb_root['Linear At. (cm-1)'] = mnb_root.apply(lambda row: calculate_linear_attenuation_coefficient(row[columns[1]], row[columns[0]]), axis=1)\n",
    "lead_root['Linear At. (cm-1)'] = lead_root.apply(lambda row: calculate_linear_attenuation_coefficient(row[columns[1]], row[columns[0]]), axis=1)\n",
    "hy_root['Linear At. (cm-1)'] = hy_root.apply(lambda row: calculate_linear_attenuation_coefficient(row[columns[1]], row[columns[0]]), axis=1)\n"
   ]
  }
 ],
 "metadata": {
  "kernelspec": {
   "display_name": "Python 3",
   "language": "python",
   "name": "python3"
  },
  "language_info": {
   "codemirror_mode": {
    "name": "ipython",
    "version": 3
   },
   "file_extension": ".py",
   "mimetype": "text/x-python",
   "name": "python",
   "nbconvert_exporter": "python",
   "pygments_lexer": "ipython3",
   "version": "3.10.16"
  }
 },
 "nbformat": 4,
 "nbformat_minor": 2
}
